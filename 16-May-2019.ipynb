{
 "cells": [
  {
   "cell_type": "markdown",
   "metadata": {},
   "source": [
    "# Password Validation\n",
    "\n",
    "* should contain atleats one upper case letter\n",
    "* length in the range (6,27)\n",
    "* should contain atleat on special charecter\n",
    "* should stsrt with and uppercase or lower case\n",
    "* should contain atlest one digit\n"
   ]
  },
  {
   "cell_type": "code",
   "execution_count": 13,
   "metadata": {},
   "outputs": [
    {
     "name": "stdout",
     "output_type": "stream",
     "text": [
      "Match\n"
     ]
    }
   ],
   "source": [
    "import re\n",
    "passwordvalidation = '[a-zA-Z][a-z+A-Z+0-9+!@#$%^&*()-+]{5,19}$'\n",
    "\n",
    "password = 'cook'\n",
    "\n",
    "if re.match(passwordvalidation, password):\n",
    "    print('Match')\n",
    "else:\n",
    "    print('Do not Match')\n"
   ]
  },
  {
   "cell_type": "markdown",
   "metadata": {},
   "source": [
    "# Problem 1 :\n",
    "\n",
    "## Problem statement \n",
    "Define a function to rade data from text file\n",
    "\n",
    "### Contraints\n",
    "\n",
    "### Test Case"
   ]
  },
  {
   "cell_type": "code",
   "execution_count": 40,
   "metadata": {},
   "outputs": [],
   "source": [
    "def readfiledata(filename):\n",
    "    with open(filename, 'r') as f:\n",
    "        #for line in f:\n",
    "            #print(line, end ='')\n",
    "         print(f.read())   \n",
    "    return \n",
    "\n",
    "\n",
    "def writedatafile(filename, data,mode):\n",
    "    with open(filename, mode) as f:\n",
    "        f.write(data)\n",
    "    return\n",
    "\n",
    "writedatafile('filewrite.txt', '\\nsecondline', 'a')"
   ]
  },
  {
   "cell_type": "markdown",
   "metadata": {},
   "source": [
    "# Porblem 2:\n",
    "\n",
    "## Problem statement\n",
    "* Define a function to generate a marks data file for 1300 students such that each mark is enteres=d in a new line.Marks range from 0 to 100 (inclusive) as random number\n",
    "\n",
    "### Constrains\n",
    "--\n",
    "\n",
    "### Test Case\n"
   ]
  },
  {
   "cell_type": "code",
   "execution_count": 45,
   "metadata": {},
   "outputs": [],
   "source": [
    "from random import randrange\n",
    "\n",
    "def marks(filename):\n",
    "    with open(filename, 'w') as f:\n",
    "        for i in range(0,1300):\n",
    "            f.write(str(randrange(0,101)))\n",
    "            f.write('\\n')\n",
    "    return\n",
    "            \n",
    "marks('marks.txt')        \n",
    "    "
   ]
  },
  {
   "cell_type": "markdown",
   "metadata": {},
   "source": [
    "# Problem 3:\n",
    "\n",
    "## Problem Statement\n",
    "\n",
    "* Generate a report on marks data with the folwwowing indicators\n",
    "* Highest Marks:\n",
    "* Lowest Marks:\n",
    "* Average Marks:\n",
    "* No of students with distinction(>80):\n",
    "* no of students with first class(>60):\n",
    "* no of students with second class(>50):\n",
    "* no of students with third class(>40):\n",
    "* no of students failed (<40):\n",
    "\n",
    "### Constraints\n",
    "--\n",
    "\n",
    "### Test Case\n",
    "* Test case 1\n",
    "* Test case 2\n"
   ]
  },
  {
   "cell_type": "code",
   "execution_count": 8,
   "metadata": {},
   "outputs": [
    {
     "ename": "NameError",
     "evalue": "name 'timeit' is not defined",
     "output_type": "error",
     "traceback": [
      "\u001b[1;31m---------------------------------------------------------------------------\u001b[0m",
      "\u001b[1;31mNameError\u001b[0m                                 Traceback (most recent call last)",
      "\u001b[1;32m<ipython-input-8-820c3f0d84d1>\u001b[0m in \u001b[0;36m<module>\u001b[1;34m\u001b[0m\n\u001b[0;32m      9\u001b[0m \u001b[1;33m\u001b[0m\u001b[0m\n\u001b[0;32m     10\u001b[0m \u001b[1;33m\u001b[0m\u001b[0m\n\u001b[1;32m---> 11\u001b[1;33m \u001b[0mmarksreport\u001b[0m\u001b[1;33m(\u001b[0m\u001b[1;34m'Studentmarks.txt'\u001b[0m\u001b[1;33m)\u001b[0m\u001b[1;33m\u001b[0m\u001b[1;33m\u001b[0m\u001b[0m\n\u001b[0m\u001b[0;32m     12\u001b[0m \u001b[1;33m\u001b[0m\u001b[0m\n\u001b[0;32m     13\u001b[0m \u001b[1;33m\u001b[0m\u001b[0m\n",
      "\u001b[1;32m<ipython-input-8-820c3f0d84d1>\u001b[0m in \u001b[0;36mmarksreport\u001b[1;34m(marksfile)\u001b[0m\n\u001b[0;32m      1\u001b[0m \u001b[1;32mimport\u001b[0m \u001b[0mre\u001b[0m\u001b[1;33m\u001b[0m\u001b[1;33m\u001b[0m\u001b[0m\n\u001b[0;32m      2\u001b[0m \u001b[1;32mdef\u001b[0m \u001b[0mmarksreport\u001b[0m\u001b[1;33m(\u001b[0m\u001b[0mmarksfile\u001b[0m\u001b[1;33m)\u001b[0m\u001b[1;33m:\u001b[0m\u001b[1;33m\u001b[0m\u001b[1;33m\u001b[0m\u001b[0m\n\u001b[1;32m----> 3\u001b[1;33m     \u001b[0mstart\u001b[0m \u001b[1;33m=\u001b[0m \u001b[0mtimeit\u001b[0m\u001b[1;33m.\u001b[0m\u001b[0mdefault_timer\u001b[0m\u001b[1;33m(\u001b[0m\u001b[1;33m)\u001b[0m\u001b[1;33m\u001b[0m\u001b[1;33m\u001b[0m\u001b[0m\n\u001b[0m\u001b[0;32m      4\u001b[0m     \u001b[0mmarksdata\u001b[0m \u001b[1;33m=\u001b[0m \u001b[0mmarksreport\u001b[0m\u001b[1;33m(\u001b[0m\u001b[0mmarksfile\u001b[0m\u001b[1;33m)\u001b[0m\u001b[1;33m\u001b[0m\u001b[1;33m\u001b[0m\u001b[0m\n\u001b[0;32m      5\u001b[0m     \u001b[1;31m#print(marksdata[2])\u001b[0m\u001b[1;33m\u001b[0m\u001b[1;33m\u001b[0m\u001b[1;33m\u001b[0m\u001b[0m\n",
      "\u001b[1;31mNameError\u001b[0m: name 'timeit' is not defined"
     ]
    }
   ],
   "source": [
    "import re\n",
    "def marksreport(marksfile):\n",
    "    start = timeit.default_timer()\n",
    "    marksdata = readfiledata(marksfile)\n",
    "    #print(marksdata[2])\n",
    "    marksdata = re.split(r'\\n', marksdata)\n",
    "    marksdata = list(map(int, marksdata[:len(marksdata)-1]))\n",
    "    print(type(marksdata[-1]))\n",
    "    return timeit.default_timer() - start\n",
    "\n",
    "\n",
    "marksreport('Studentmarks.txt')        \n",
    "        \n",
    "    "
   ]
  },
  {
   "cell_type": "code",
   "execution_count": null,
   "metadata": {},
   "outputs": [],
   "source": []
  },
  {
   "cell_type": "markdown",
   "metadata": {},
   "source": [
    "\n",
    "\n"
   ]
  }
 ],
 "metadata": {
  "kernelspec": {
   "display_name": "Python 3",
   "language": "python",
   "name": "python3"
  },
  "language_info": {
   "codemirror_mode": {
    "name": "ipython",
    "version": 3
   },
   "file_extension": ".py",
   "mimetype": "text/x-python",
   "name": "python",
   "nbconvert_exporter": "python",
   "pygments_lexer": "ipython3",
   "version": "3.7.3"
  }
 },
 "nbformat": 4,
 "nbformat_minor": 2
}
