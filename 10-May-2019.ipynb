{
 "cells": [
  {
   "cell_type": "markdown",
   "metadata": {},
   "source": [
    "# Day-7\n",
    "\n",
    "## 10 May 2019\n",
    "\n",
    "## Y.VVS.Sai Charan\n",
    "\n",
    "## Day Objectives\n",
    "1.Recurssion using Python\n",
    "2.Solving Problems using Recurssion\n",
    "\n"
   ]
  },
  {
   "cell_type": "code",
   "execution_count": 20,
   "metadata": {},
   "outputs": [],
   "source": [
    "#Day-6 from summer skills - daily wise schedule"
   ]
  },
  {
   "cell_type": "markdown",
   "metadata": {},
   "source": [
    "# Problem :-1\n",
    "\n",
    "## Problem Statement\n",
    "\n",
    "Design a function to determine the frequency count of numbers in a given list\n",
    "\n",
    "### Constraints\n",
    "\n",
    "--\n",
    "\n",
    "### Test Case\n",
    "\n",
    "Frequency( a[1,3,2,1] ) -> 1 : 2, 2 : 1, 3 : 1"
   ]
  },
  {
   "cell_type": "code",
   "execution_count": 21,
   "metadata": {},
   "outputs": [
    {
     "name": "stdout",
     "output_type": "stream",
     "text": [
      "1  :  2 2  :  1 3  :  1 "
     ]
    }
   ],
   "source": [
    "import numpy\n",
    "def frequency(list_):\n",
    "    x = numpy.unique(list_)\n",
    "    n = len(x)\n",
    "    for i in range(n):\n",
    "        print(x[i], \" : \" ,list_.count(x[i]) ,end =\" \")\n",
    "\n",
    "a = [1,3,2,1]\n",
    "frequency(a)\n",
    "    "
   ]
  },
  {
   "cell_type": "code",
   "execution_count": 22,
   "metadata": {},
   "outputs": [],
   "source": [
    "#Day-7 from summer skills - daily wise schedule"
   ]
  },
  {
   "cell_type": "markdown",
   "metadata": {},
   "source": [
    "# Problem :- 2\n",
    "\n",
    "## Problem Statement\n",
    "\n",
    "Design a function to identify all unique elements \n",
    "\n",
    "## Constraints\n",
    "\n",
    "--\n",
    "\n",
    "## Test Case\n",
    "\n",
    "* unique([1, 2, 3, 4, 3, 2, 1, 0, 0]) -> [1, 2, 3, 4, 0]\n",
    "* unique([9]) -> [9]"
   ]
  },
  {
   "cell_type": "code",
   "execution_count": 7,
   "metadata": {},
   "outputs": [
    {
     "name": "stdout",
     "output_type": "stream",
     "text": [
      "[0 1 2 3 4]\n",
      "[9]\n"
     ]
    }
   ],
   "source": [
    "import numpy\n",
    "def unique(list_):\n",
    "    x = numpy.unique(list_)\n",
    "    print(x)\n",
    "\n",
    "a = [1, 2, 3, 4, 3, 2, 1, 0, 0]    \n",
    "unique(a)\n",
    "b=(9)\n",
    "unique(b)"
   ]
  },
  {
   "cell_type": "markdown",
   "metadata": {},
   "source": [
    "# Recursion"
   ]
  },
  {
   "cell_type": "markdown",
   "metadata": {},
   "source": [
    "# Problem :-1\n",
    "\n",
    "## Problem Statement\n",
    "\n",
    "Solve the following problems using Recursion and Iteration\n",
    "\n",
    "### Constraints\n",
    "\n",
    "--\n",
    "\n",
    "### Test Case\n",
    "\n",
    "* Power of a number\n",
    "* Factorial\n",
    "* GCD\n",
    "* Towers of Hanoi\n",
    "* Generating the nth Fibonacci numbe\n"
   ]
  },
  {
   "cell_type": "code",
   "execution_count": 24,
   "metadata": {},
   "outputs": [
    {
     "name": "stdout",
     "output_type": "stream",
     "text": [
      "8\n",
      "64\n"
     ]
    }
   ],
   "source": [
    "def  recursivePower(n,r):\n",
    "    if r == 1:\n",
    "        return n\n",
    "    else:\n",
    "        return recursivePower(n , r-1) * n\n",
    "\n",
    "print(recursivePower(2,3))\n",
    "print(recursivePower(4,3))"
   ]
  },
  {
   "cell_type": "code",
   "execution_count": 25,
   "metadata": {},
   "outputs": [
    {
     "name": "stdout",
     "output_type": "stream",
     "text": [
      "720\n",
      "5040\n"
     ]
    }
   ],
   "source": [
    "def factorial_(r):\n",
    "    if r == 1:\n",
    "        return r\n",
    "    else:\n",
    "        return factorial_(r-1) * r\n",
    "    \n",
    "print(factorial_(6))\n",
    "print(factorial_(7))        "
   ]
  },
  {
   "cell_type": "code",
   "execution_count": 26,
   "metadata": {},
   "outputs": [
    {
     "name": "stdout",
     "output_type": "stream",
     "text": [
      "6\n",
      "12\n",
      "6\n"
     ]
    }
   ],
   "source": [
    "def gcd_Recursive(a,b):\n",
    "    if b % a == 0:\n",
    "        return a\n",
    "    else:\n",
    "        return gcd_Recursive(b % a, a)\n",
    "\n",
    "print(gcd_Recursive(12,42))\n",
    "print(gcd_Recursive(12,48))\n",
    "print(gcd_Recursive(6,12))\n"
   ]
  },
  {
   "cell_type": "code",
   "execution_count": 27,
   "metadata": {},
   "outputs": [
    {
     "name": "stdout",
     "output_type": "stream",
     "text": [
      "4\n",
      "6\n"
     ]
    }
   ],
   "source": [
    "# Iterative of GCD\n",
    "def gcd_Iterative(a, b):\n",
    "    r = b % a\n",
    "    if (r == 0):\n",
    "        return a\n",
    "    while r != 0:\n",
    "        r = b % a\n",
    "        b = a\n",
    "        a = r\n",
    "    \n",
    "    return b\n",
    "print(gcd_Iterative(12,40))\n",
    "print(gcd_Iterative(6,12))"
   ]
  },
  {
   "cell_type": "code",
   "execution_count": 28,
   "metadata": {},
   "outputs": [],
   "source": [
    "#towers of henoi"
   ]
  },
  {
   "cell_type": "code",
   "execution_count": 29,
   "metadata": {
    "scrolled": false
   },
   "outputs": [
    {
     "name": "stdout",
     "output_type": "stream",
     "text": [
      "Move 1 disk from A to C\n",
      "Move 2 disk from A to B\n",
      "Move 1 disk from C to B\n",
      "Move 3 disk from A to C\n",
      "Move 1 disk from B to A\n",
      "Move 2 disk from B to C\n",
      "Move 1 disk from A to C\n"
     ]
    }
   ],
   "source": [
    "def Towers_of_Hanoi(n, source, temp, dest):\n",
    "    if n == 1:\n",
    "        print('Move', n ,'disk from', source, 'to', dest)\n",
    "        return \n",
    "    else:\n",
    "        Towers_of_Hanoi(n-1, source, dest, temp)\n",
    "        print('Move', n, 'disk from' , source, 'to', dest)\n",
    "        Towers_of_Hanoi(n-1, temp, source, dest)\n",
    "        return\n",
    "\n",
    "Towers_of_Hanoi( 3, 'A', 'B', 'C' )"
   ]
  },
  {
   "cell_type": "code",
   "execution_count": 30,
   "metadata": {},
   "outputs": [],
   "source": [
    "#Generating nth fibonacci number"
   ]
  },
  {
   "cell_type": "code",
   "execution_count": 6,
   "metadata": {},
   "outputs": [
    {
     "name": "stdout",
     "output_type": "stream",
     "text": [
      "in valid\n",
      "34\n"
     ]
    }
   ],
   "source": [
    "def fibonacci(n):\n",
    "    if n == 0:\n",
    "        return \"in valid\"\n",
    "    if n == 1:\n",
    "        return 0\n",
    "    if n == 2:\n",
    "        return 1\n",
    "    else:\n",
    "        return fibonacci(n-1) + fibonacci(n-2)\n",
    "   \n",
    "    \n",
    "print(fibonacci(0))\n",
    "print(fibonacci(10))"
   ]
  },
  {
   "cell_type": "markdown",
   "metadata": {},
   "source": [
    "# Problem :-2\n",
    "\n",
    "## Problem Statement\n",
    "\n",
    "Define a function to identity the number of times a substring is repeating in a given string\n",
    "\n",
    "## Constraints\n",
    "\n",
    "--\n",
    "\n",
    "## Test Case\n",
    "\n",
    "* substringCount('str', 'substr') -> 1\n",
    "* substringCount('1234567891122334455', '3') -> 3\n",
    "* substringCount('abccddccc', 'cc') -> 3"
   ]
  },
  {
   "cell_type": "code",
   "execution_count": 16,
   "metadata": {},
   "outputs": [
    {
     "name": "stdout",
     "output_type": "stream",
     "text": [
      "1\n",
      "3\n",
      "3\n"
     ]
    }
   ],
   "source": [
    "def sub(str1,str2):\n",
    "    count = 0\n",
    "    if(len(str1)>len(str2)):\n",
    "        sub = str2\n",
    "        stri = str1\n",
    "    else:\n",
    "        sub = str1\n",
    "        stri = str2\n",
    "        for i in range(len(stri)):\n",
    "            if(sub in stri[i : i + len (sub) ]):\n",
    "                count = count+1\n",
    "        return count\n",
    "    \n",
    "print(sub('str', 'substr'))\n",
    "print(sub('3', '1234567891122334455'))\n",
    "print(sub('cc', 'abccddccc'))"
   ]
  },
  {
   "cell_type": "markdown",
   "metadata": {},
   "source": [
    "# Problem :-3\n",
    "\n",
    "## Problem Statement\n",
    "\n",
    "Define a function to merge the characters of two strings alternatively\n",
    "\n",
    "### Constraints\n",
    "\n",
    "The remaining characters of the longer string are printed in the same order at the end.\n",
    "\n",
    "### Test Case\n",
    "\n",
    "* mergeString('abcd', 'abcd') -> 'aabbccdd'\n",
    "* mergeString('abc', '123456') -> 'a1b2c3456'"
   ]
  },
  {
   "cell_type": "code",
   "execution_count": 25,
   "metadata": {},
   "outputs": [
    {
     "name": "stdout",
     "output_type": "stream",
     "text": [
      "aabbccdd\n",
      "a1b2c356\n"
     ]
    }
   ],
   "source": [
    "def merge_str(m,n):\n",
    "    x = len(m)\n",
    "    y = len(n)\n",
    "    z = ''\n",
    "    if(x>y):\n",
    "        for i in range(y):\n",
    "            z = z+m[i]\n",
    "            z = z+n[i]\n",
    "        for i in range(y+1,x):\n",
    "            z = z+m[i]\n",
    "    elif (x<y):\n",
    "            for i in range(x):\n",
    "                z = z+m[i]\n",
    "                z = z+n[i]\n",
    "            for i in range(x+1,y):\n",
    "                z = z+n[i]\n",
    "    else:\n",
    "            for i in range(x):\n",
    "                z = z+m[i]\n",
    "                z = z+n[i]\n",
    "    return z\n",
    "\n",
    "print(merge_str('abcd', 'abcd'))   \n",
    "print(merge_str('abc', '123456'))        "
   ]
  },
  {
   "cell_type": "markdown",
   "metadata": {},
   "source": []
  }
 ],
 "metadata": {
  "kernelspec": {
   "display_name": "Python 3",
   "language": "python",
   "name": "python3"
  },
  "language_info": {
   "codemirror_mode": {
    "name": "ipython",
    "version": 3
   },
   "file_extension": ".py",
   "mimetype": "text/x-python",
   "name": "python",
   "nbconvert_exporter": "python",
   "pygments_lexer": "ipython3",
   "version": "3.7.3"
  }
 },
 "nbformat": 4,
 "nbformat_minor": 2
}
