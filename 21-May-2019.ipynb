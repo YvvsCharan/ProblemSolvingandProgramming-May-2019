{
 "cells": [
  {
   "cell_type": "markdown",
   "metadata": {},
   "source": [
    "# Day 18\n",
    "# Date - 21-May-2019\n",
    "\n",
    "# Yvvs.sai charan\n",
    "\n",
    "# Problem 1:"
   ]
  },
  {
   "cell_type": "code",
   "execution_count": 12,
   "metadata": {},
   "outputs": [
    {
     "data": {
      "text/plain": [
       "5"
      ]
     },
     "execution_count": 12,
     "metadata": {},
     "output_type": "execute_result"
    }
   ],
   "source": [
    "# midindex = leftindex + (rightindex - leftindex)/2\n",
    "def binary_search(a,left,right,target):\n",
    "    while(left <= right):\n",
    "        midIndex = left + (right - left)\n",
    "        if(a[midIndex] == target):\n",
    "            return midIndex\n",
    "        if(a[midIndex] > target):\n",
    "            right = midIndex - 1\n",
    "        else:\n",
    "            left = midIndex + 1\n",
    "    return -1\n",
    "a = [1 ,12 ,25 ,45 ,57 ,99]\n",
    "binary_search(a ,0 ,5 ,99)"
   ]
  },
  {
   "cell_type": "code",
   "execution_count": null,
   "metadata": {},
   "outputs": [],
   "source": []
  }
 ],
 "metadata": {
  "kernelspec": {
   "display_name": "Python 3",
   "language": "python",
   "name": "python3"
  },
  "language_info": {
   "codemirror_mode": {
    "name": "ipython",
    "version": 3
   },
   "file_extension": ".py",
   "mimetype": "text/x-python",
   "name": "python",
   "nbconvert_exporter": "python",
   "pygments_lexer": "ipython3",
   "version": "3.7.3"
  }
 },
 "nbformat": 4,
 "nbformat_minor": 2
}
