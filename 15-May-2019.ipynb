{
 "cells": [
  {
   "cell_type": "code",
   "execution_count": 17,
   "metadata": {},
   "outputs": [
    {
     "data": {
      "text/plain": [
       "120"
      ]
     },
     "execution_count": 17,
     "metadata": {},
     "output_type": "execute_result"
    }
   ],
   "source": [
    "from numericalfunctions import sumN as s \n",
    "\n",
    "s(15)\n"
   ]
  },
  {
   "cell_type": "code",
   "execution_count": null,
   "metadata": {},
   "outputs": [],
   "source": [
    "math.floor(123.999)\n"
   ]
  },
  {
   "cell_type": "markdown",
   "metadata": {},
   "source": [
    "# Regular Expressions\n",
    "\n",
    "A set of all possible values which satisfy given patterns\n",
    "\n",
    "0123456789\n",
    "[0-9]\n",
    "[a-z]\n",
    "[A-Z]\n",
    "\n",
    "Validate postal code\n",
    "500001,201762,....true\n",
    "058875,098655,....False\n"
   ]
  },
  {
   "cell_type": "code",
   "execution_count": 45,
   "metadata": {},
   "outputs": [
    {
     "name": "stdout",
     "output_type": "stream",
     "text": [
      "Match\n"
     ]
    }
   ],
   "source": [
    "import re\n",
    "\n",
    "PostalCodePttern = '^[1-9][0-9]{5}$'\n",
    "\n",
    "code = '500001' \n",
    "\n",
    "if re.match(PostalCodePttern, code):\n",
    "    print('Match')\n",
    "else:\n",
    "    print('Do not Match')"
   ]
  },
  {
   "cell_type": "code",
   "execution_count": 52,
   "metadata": {},
   "outputs": [
    {
     "name": "stdout",
     "output_type": "stream",
     "text": [
      "Match\n"
     ]
    }
   ],
   "source": [
    "import re\n",
    "\n",
    "PhoneNumberPattern = '^[+][9][1][6-9][0-9]{9}$'\n",
    "\n",
    "ph = '+918978161620'\n",
    "\n",
    "if re.match(PhoneNumberPattern, ph):\n",
    "    print('Match')\n",
    "else:\n",
    "    print('do not match')"
   ]
  },
  {
   "cell_type": "code",
   "execution_count": 56,
   "metadata": {},
   "outputs": [
    {
     "name": "stdout",
     "output_type": "stream",
     "text": [
      "Match\n"
     ]
    }
   ],
   "source": [
    "import re\n",
    "\n",
    "EmailValidationPattern = '^[a-z][a-z0-9-_.]{5,13}[a-z0-9][@][0-9a-z]{3,9}[.][a-z]{2,3}$'\n",
    "\n",
    "email = 'saicharany_155@gmail.com'\n",
    "\n",
    "if re.match(EmailValidationPattern, email):\n",
    "    print('Match')\n",
    "else:\n",
    "    print('do not match')"
   ]
  },
  {
   "cell_type": "markdown",
   "metadata": {},
   "source": [
    "# Password Validation\n",
    "\n",
    "* should contain atleats one upper case letter\n",
    "* length in the range (6,27)\n",
    "* should contain atleat on special charecter\n",
    "* should stsrt with and uppercase or lower case\n",
    "* should contain atlest one digit\n"
   ]
  },
  {
   "cell_type": "code",
   "execution_count": null,
   "metadata": {},
   "outputs": [],
   "source": [
    "import re\n",
    "\n",
    "\n",
    "passwordvalidation = "
   ]
  },
  {
   "cell_type": "markdown",
   "metadata": {},
   "source": [
    "# Iterators in Python\n",
    "\n",
    "Lists,Tuples,Strings"
   ]
  },
  {
   "cell_type": "code",
   "execution_count": 61,
   "metadata": {},
   "outputs": [
    {
     "name": "stdout",
     "output_type": "stream",
     "text": [
      "1\n",
      "2\n",
      "3\n",
      "4\n",
      "5\n",
      "6\n",
      "1\n",
      "2\n",
      "3\n",
      "4\n",
      "5\n",
      "6\n"
     ]
    }
   ],
   "source": [
    "li = [1, 2, 3, 4, 5, 6]\n",
    "\n",
    "for i in li:\n",
    "    print(i)\n",
    "\n",
    "type(li)\n",
    "it = iter(li)\n",
    "for i in it:\n",
    "    print(i)\n"
   ]
  },
  {
   "cell_type": "markdown",
   "metadata": {},
   "source": [
    "# Generators in Python"
   ]
  },
  {
   "cell_type": "code",
   "execution_count": 73,
   "metadata": {},
   "outputs": [
    {
     "name": "stdout",
     "output_type": "stream",
     "text": [
      "1 8 27 64 125 216 343 512 729 1000 "
     ]
    }
   ],
   "source": [
    "li = [a**10 for a in range(1,10)]\n",
    "li\n",
    "gn = (a**3 for a in range (1,11))\n",
    "\n",
    "for a in gn:\n",
    "    print(a, end=\" \")\n",
    "    "
   ]
  },
  {
   "cell_type": "code",
   "execution_count": null,
   "metadata": {},
   "outputs": [],
   "source": [
    "sum(li|)"
   ]
  }
 ],
 "metadata": {
  "kernelspec": {
   "display_name": "Python 3",
   "language": "python",
   "name": "python3"
  },
  "language_info": {
   "codemirror_mode": {
    "name": "ipython",
    "version": 3
   },
   "file_extension": ".py",
   "mimetype": "text/x-python",
   "name": "python",
   "nbconvert_exporter": "python",
   "pygments_lexer": "ipython3",
   "version": "3.7.3"
  }
 },
 "nbformat": 4,
 "nbformat_minor": 2
}
