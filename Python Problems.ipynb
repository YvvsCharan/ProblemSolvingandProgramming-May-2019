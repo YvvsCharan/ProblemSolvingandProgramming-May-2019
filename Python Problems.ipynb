{
 "cells": [
  {
   "cell_type": "markdown",
   "metadata": {},
   "source": [
    "# Basic Problems"
   ]
  },
  {
   "cell_type": "markdown",
   "metadata": {},
   "source": [
    "# Day 6\n",
    "\n",
    "### 9 May 2019\n",
    "\n",
    "### Y.VVS.Sai Charan\n",
    "\n",
    "### Notes"
   ]
  },
  {
   "cell_type": "code",
   "execution_count": 91,
   "metadata": {},
   "outputs": [],
   "source": [
    "#Day-4 from summer skills - daily wise schedule(Problem 1 to poblem 8)"
   ]
  },
  {
   "cell_type": "markdown",
   "metadata": {},
   "source": [
    "## Problem :-1    \n",
    "\n",
    "#### Problem Statement\n",
    "To evaluate the polynomial\n",
    "    f(x)= x^3 + 2 X^2 + 3 X - 10 \n",
    "#### Constraints\n",
    "    Given x in the range [1, 1000]"
   ]
  },
  {
   "cell_type": "code",
   "execution_count": 5,
   "metadata": {},
   "outputs": [],
   "source": [
    "def polynomial(x):\n",
    "    if(1 <=x and x<=1000):\n",
    "        return x**3 + 2*x**2 + 3*x - 10\n",
    "    else:\n",
    "        return false\n",
    "    "
   ]
  },
  {
   "cell_type": "code",
   "execution_count": 4,
   "metadata": {},
   "outputs": [
    {
     "data": {
      "text/plain": [
       "16940"
      ]
     },
     "execution_count": 4,
     "metadata": {},
     "output_type": "execute_result"
    }
   ],
   "source": [
    "polynomial(25)"
   ]
  },
  {
   "cell_type": "markdown",
   "metadata": {},
   "source": [
    "# Problem :- 2\n",
    " \n",
    " \n",
    " ### Problem Statement\n",
    " Determining whether a number is Even or Odd\n",
    " \n",
    " \n",
    " ### Constrains\n",
    " \n",
    " -----\n",
    " "
   ]
  },
  {
   "cell_type": "code",
   "execution_count": 18,
   "metadata": {},
   "outputs": [],
   "source": [
    "def even_or_odd (n):\n",
    "    if(n % 2 == 0):\n",
    "        return True\n",
    "    else:\n",
    "        return False\n",
    "        \n",
    "        "
   ]
  },
  {
   "cell_type": "code",
   "execution_count": 19,
   "metadata": {},
   "outputs": [
    {
     "data": {
      "text/plain": [
       "True"
      ]
     },
     "execution_count": 19,
     "metadata": {},
     "output_type": "execute_result"
    }
   ],
   "source": [
    "even_or_odd(8)"
   ]
  },
  {
   "cell_type": "markdown",
   "metadata": {},
   "source": [
    "# Problen :- 3\n",
    "\n",
    "### Problem Statement\n",
    "\n",
    " greatest of 3 numbers\n",
    " \n",
    "### Constraints\n",
    "------"
   ]
  },
  {
   "cell_type": "code",
   "execution_count": 28,
   "metadata": {},
   "outputs": [],
   "source": [
    "def greatest_of_3(n1,n2,n3):\n",
    "    if(n1 >= n2 and n1 >= n3):\n",
    "        print(\"it is  gratest number: \" , n1)\n",
    "    elif (n2 >= n1 and n2 >= n3):\n",
    "        print(\"it is greatest number :\" , n2)\n",
    "    elif(n3 >= n1 and n3 >= n2):\n",
    "        print(\"it is greatest number :\" , n3)\n",
    "        \n",
    "        \n",
    "            "
   ]
  },
  {
   "cell_type": "code",
   "execution_count": 31,
   "metadata": {},
   "outputs": [
    {
     "name": "stdout",
     "output_type": "stream",
     "text": [
      "it is greatest number : 5\n"
     ]
    }
   ],
   "source": [
    "greatest_of_3(2,3,5)"
   ]
  },
  {
   "cell_type": "markdown",
   "metadata": {},
   "source": [
    "# Problem :- 4\n",
    " \n",
    "### Problem Statement\n",
    "\n",
    "Divisibility with 2 and 3 but not 4\n",
    "\n",
    "### Constrains\n",
    "\n",
    "given number will be in the range [1,1000000000]\n",
    "\n",
    "### Test cases\n",
    "\n",
    "\n",
    "* Check divisibility (6)-> True\n",
    "\n",
    "* Check divisibility (16)-> False\n",
    "\n",
    "* Check divisibility (20)-> False"
   ]
  },
  {
   "cell_type": "code",
   "execution_count": 30,
   "metadata": {},
   "outputs": [
    {
     "data": {
      "text/plain": [
       "True"
      ]
     },
     "execution_count": 30,
     "metadata": {},
     "output_type": "execute_result"
    }
   ],
   "source": [
    "def checkDivisibility(n):\n",
    "    if(n % 2 == 0 and n % 3 == 0 and n % 4 != 0):\n",
    "        return True\n",
    "    else:\n",
    "        return False\n",
    "checkDivisibility(6)"
   ]
  },
  {
   "cell_type": "markdown",
   "metadata": {},
   "source": [
    "# Problem :- 5\n",
    "\n",
    "### Problem Statement\n",
    "\n",
    "Given 2 ints, a and b, return True if one if them is 10 or if their sum is 10.\n",
    "\n",
    "### Constrainrs\n",
    " --\n",
    " \n",
    "### Test Cases\n",
    "\n",
    "* makes10(9, 10) → True\n",
    "* makes10(9, 9) → False\n",
    "* makes10(1, 9) → True"
   ]
  },
  {
   "cell_type": "code",
   "execution_count": 32,
   "metadata": {},
   "outputs": [
    {
     "data": {
      "text/plain": [
       "True"
      ]
     },
     "execution_count": 32,
     "metadata": {},
     "output_type": "execute_result"
    }
   ],
   "source": [
    "def makes10(a,b):\n",
    "    if(a == 10 or b == 10 or a+b == 10 ):\n",
    "        return True\n",
    "    else:\n",
    "        return False\n",
    "makes10(8,2)\n",
    "        \n",
    "        "
   ]
  },
  {
   "cell_type": "markdown",
   "metadata": {},
   "source": [
    "# Problem :- 6\n",
    "\n",
    "### Problem Statement\n",
    "\n",
    "Given 2 int values, return True if one is negative and one is positive. Except if the parameter \"negative\" is True, then return True only if both are negative.\n",
    "\n",
    "### Constrains\n",
    "--\n",
    "\n",
    "### Test Cases\n",
    "\n",
    "* pos_neg(1, -1, False) → True\n",
    "* pos_neg(-1, 1, False) → True\n",
    "* pos_neg(-4, -5, True) → True\n",
    "* pos_neg(-1, 1, True) → False\n",
    "* pos_neg(1, 6, True) → False\n",
    "* pos_neg(-1, -9, False) → False\n",
    "\n",
    "### Explanation"
   ]
  },
  {
   "cell_type": "code",
   "execution_count": 45,
   "metadata": {},
   "outputs": [
    {
     "name": "stdout",
     "output_type": "stream",
     "text": [
      "True\n",
      "True\n",
      "False\n",
      "False\n",
      "False\n",
      "False\n"
     ]
    }
   ],
   "source": [
    "def pos_neg(a,b,c):\n",
    "    if(a < 0 and b > 0 and c == False or a > 0 and b < 0 and c == False or a > 0 and b > 0 and c == 0):\n",
    "        return True\n",
    "    else:\n",
    "        return False\n",
    "\n",
    "print(pos_neg(1,-1,False))\n",
    "print(pos_neg(-1,1,False))\n",
    "print(pos_neg(-4,-5,True))\n",
    "print(pos_neg(-1,1,True)) \n",
    "print(pos_neg(1,6,True)) \n",
    "print(pos_neg(-1,-9,False)) "
   ]
  },
  {
   "cell_type": "markdown",
   "metadata": {},
   "source": [
    "#  Problem :-7\n",
    "\n",
    "### Problem Statement\n",
    "Given an int n, return True if it is within 10 of 100 or 200. \n",
    "\n",
    "### Constraints\n",
    "abs(num) computes the absolute value of a number.\n",
    "\n",
    "### Test Cases\n",
    "* near_hundred(93) → True\n",
    "* near_hundred(90) → True\n",
    "* near_hundred(89) → False"
   ]
  },
  {
   "cell_type": "code",
   "execution_count": 47,
   "metadata": {},
   "outputs": [
    {
     "data": {
      "text/plain": [
       "False"
      ]
     },
     "execution_count": 47,
     "metadata": {},
     "output_type": "execute_result"
    }
   ],
   "source": [
    "def abs_num(x):\n",
    "    return 90<=x<=110 or 190<=x<=210\n",
    "abs_num(89)"
   ]
  },
  {
   "cell_type": "markdown",
   "metadata": {},
   "source": [
    "# Problem :-8\n",
    "\n",
    "## Pronbem Statement \n",
    "\n",
    "Given an integer N, calculate the sum of N natural numbers in the range [0,10000000000]\n",
    "\n",
    "### Constraints\n",
    "\n",
    "### Test Case\n",
    " * Test Case 1\n",
    " * Test Case 2\n",
    " * Test Case 3\n"
   ]
  },
  {
   "cell_type": "code",
   "execution_count": 52,
   "metadata": {},
   "outputs": [
    {
     "data": {
      "text/plain": [
       "479646003210"
      ]
     },
     "execution_count": 52,
     "metadata": {},
     "output_type": "execute_result"
    }
   ],
   "source": [
    "import random\n",
    "\n",
    "def sumRandomNumbers(n, lb,ub):\n",
    "    sum = 0\n",
    "    for count in range (1, n+1):\n",
    "        sum = sum + random.randint(lb,ub)\n",
    "    return sum\n",
    "sumRandomNumbers(100,0,10000000000)"
   ]
  },
  {
   "cell_type": "code",
   "execution_count": 90,
   "metadata": {},
   "outputs": [],
   "source": [
    "#Day-5  from summer skills - daily wise schedule"
   ]
  },
  {
   "cell_type": "markdown",
   "metadata": {},
   "source": [
    "# Problem :- 9\n",
    "\n",
    "## Problem Statement\n",
    "\n",
    "Factorial of a given number as a function\n",
    "\n",
    "### Constraints\n",
    "\n",
    "### Test Case\n",
    "\n",
    "* Factorial(5) -> 120\n",
    "* Factorial (6) -> 720\n"
   ]
  },
  {
   "cell_type": "code",
   "execution_count": 61,
   "metadata": {},
   "outputs": [
    {
     "name": "stdout",
     "output_type": "stream",
     "text": [
      "120\n",
      "720\n"
     ]
    }
   ],
   "source": [
    "def fact(n):\n",
    "    fact = 1\n",
    "    for i in range (1, n+1):\n",
    "        fact = fact*i\n",
    "    return (fact)\n",
    "print(fact(5))\n",
    "print(fact(6))"
   ]
  },
  {
   "cell_type": "markdown",
   "metadata": {},
   "source": []
  },
  {
   "cell_type": "code",
   "execution_count": 77,
   "metadata": {},
   "outputs": [],
   "source": [
    "#Day-6 in summer skills web page(problem-10 to problem -13)"
   ]
  },
  {
   "cell_type": "markdown",
   "metadata": {},
   "source": [
    "# # Problem :-10   \n",
    "\n",
    "### Problem statement\n",
    "Design a function to perform Linear search on list of N unsorted numbers. It take an array and the key element to be searched and returns the index of the element of key element if found. Else returns -1\n",
    "\n",
    "### constraints\n",
    "--\n",
    "## Test case\n",
    "\n",
    "* LinearSearch( a[5,4,3,2,1], 4) -> 2\n",
    "* LinearSearch( a[90, 123, 324, 21, 56], 22) -> -1"
   ]
  },
  {
   "cell_type": "code",
   "execution_count": 78,
   "metadata": {},
   "outputs": [
    {
     "name": "stdout",
     "output_type": "stream",
     "text": [
      "1\n",
      "-1\n"
     ]
    }
   ],
   "source": [
    "def linearSearch(a, key):\n",
    "    for i in range(0, len(a)):\n",
    "        if(a[i] == key):\n",
    "            return i\n",
    "    return -1\n",
    "\n",
    "print(linearSearch([5,4,3,2,1],4))\n",
    "print(linearSearch([90, 123, 324, 21, 56], 22))"
   ]
  },
  {
   "cell_type": "code",
   "execution_count": null,
   "metadata": {},
   "outputs": [],
   "source": []
  },
  {
   "cell_type": "markdown",
   "metadata": {},
   "source": [
    "# Problem :- 11\n",
    "\n",
    "## Problem Statement\n",
    "\n",
    "Design a function to determine if a given string is a Palindrome\n",
    "\n",
    "### Constraints\n",
    "\n",
    "--\n",
    "\n",
    "### Test Case\n",
    "\n",
    "* Palindrome(\"racecar\") -> True\n",
    "* Palindrome(\"raptor\") -> False"
   ]
  },
  {
   "cell_type": "code",
   "execution_count": 94,
   "metadata": {},
   "outputs": [
    {
     "name": "stdout",
     "output_type": "stream",
     "text": [
      "True\n",
      "False\n"
     ]
    }
   ],
   "source": [
    "def palindrome(n):\n",
    "    if(n == n[len(n)-1 :: -1]):\n",
    "        return True    #if true return True\n",
    "    else:\n",
    "        return False    #if false return False\n",
    "\n",
    "print(palindrome(\"racecar\"))\n",
    "print(palindrome(\"rapror\"))\n"
   ]
  },
  {
   "cell_type": "markdown",
   "metadata": {},
   "source": [
    "# Problem :- 12\n",
    "\n",
    "## Problem Statement\n",
    "\n",
    "Design a function to calculate the squareroot of a number\n",
    "\n",
    "### Constaints\n",
    "\n",
    "\"without using the math function sqrt\".\n",
    "\n",
    "### Test Case\n",
    "\n",
    "Squareroot(36) -> 6"
   ]
  },
  {
   "cell_type": "code",
   "execution_count": 76,
   "metadata": {},
   "outputs": [
    {
     "data": {
      "text/plain": [
       "6.0"
      ]
     },
     "execution_count": 76,
     "metadata": {},
     "output_type": "execute_result"
    }
   ],
   "source": [
    "def squareroot(n):\n",
    "    return n**0.5\n",
    "\n",
    "squareroot(36)"
   ]
  },
  {
   "cell_type": "markdown",
   "metadata": {},
   "source": [
    "# Problem :- 13\n",
    "\n",
    "## Problem Statement\n",
    "\n",
    "Design a function calculate the maximum, minimum and average of N numbers\n",
    "\n",
    "### Constraints\n",
    "\n",
    "--\n",
    "### Test Case\n",
    "\n",
    "* data( a[1,2,3,4,5] ) -> Max = 5, Min = 1, Avg = 3"
   ]
  },
  {
   "cell_type": "code",
   "execution_count": 88,
   "metadata": {},
   "outputs": [
    {
     "data": {
      "text/plain": [
       "(5, 1)"
      ]
     },
     "execution_count": 88,
     "metadata": {},
     "output_type": "execute_result"
    }
   ],
   "source": [
    "a=[1,2,3,4,5] \n",
    "def max_min_avg(a):\n",
    "    max = min = a[3]  \n",
    "    for i in range(0 , len(a)):\n",
    "        if (max < a[i]):\n",
    "            max = a[i]\n",
    "        elif(min > a[i]):\n",
    "            min = a[i]\n",
    "    return max , min\n",
    "max_min_avg(a)"
   ]
  },
  {
   "cell_type": "code",
   "execution_count": 113,
   "metadata": {},
   "outputs": [],
   "source": [
    "##Day-5 from summer skills - day wise schedule(Problem -14 to Problem 17)"
   ]
  },
  {
   "cell_type": "markdown",
   "metadata": {},
   "source": [
    "# Problem :-14\n",
    "\n",
    "## Problem Statement\n",
    "\n",
    "Use function to print the list of factors of a given number\n",
    "\n",
    "### Constraints\n",
    "\n",
    "### Test Case\n",
    "\n",
    "* FactorList(6)  ->  1 2 3 6\n",
    "\n",
    "* FactorList (9) ->   1 3 9\n",
    "\n",
    "*FactorList (19) ->  1  19"
   ]
  },
  {
   "cell_type": "code",
   "execution_count": 93,
   "metadata": {},
   "outputs": [
    {
     "name": "stdout",
     "output_type": "stream",
     "text": [
      "1 2 3 6 None\n",
      "1 3 9 None\n"
     ]
    }
   ],
   "source": [
    "def FactorsList(n):\n",
    "    for i in range(1,n+1):\n",
    "        if(n % i == 0):\n",
    "            print(i,end = \" \")\n",
    "                        \n",
    "print(FactorsList(6))\n",
    "print(FactorsList(9))"
   ]
  },
  {
   "cell_type": "markdown",
   "metadata": {},
   "source": [
    "# Problem :- 15\n",
    "\n",
    "## Problem Statement\n",
    "\n",
    "Use functions to check if a given number is Prime and returns a Boolean value.\n",
    "\n",
    "### Constraints\n",
    "--\n",
    "\n",
    "### Test Case\n",
    "\n",
    "* IsPrime(7) -> True\n",
    "\n",
    "* IsPrime(9) ->  False"
   ]
  },
  {
   "cell_type": "code",
   "execution_count": 100,
   "metadata": {},
   "outputs": [
    {
     "name": "stdout",
     "output_type": "stream",
     "text": [
      "True\n"
     ]
    }
   ],
   "source": [
    "def is_prime(a):\n",
    "    for i in range(2,a//2):\n",
    "        if(a % i == 0):\n",
    "            return False\n",
    "        return True\n",
    "\n",
    "print(is_prime(7))\n",
    "        "
   ]
  },
  {
   "cell_type": "markdown",
   "metadata": {},
   "source": [
    "# Problem :- 16\n",
    "\n",
    "## Problem Statement\n",
    "\n",
    "Use functions to count the number of digits in a given number.\n",
    "\n",
    "### Constraints\n",
    "\n",
    "--\n",
    "### Test Case\n",
    "\n",
    "* CountDigits(123456) ->  6\n",
    "\n",
    "* CountDigits (0) ->  1"
   ]
  },
  {
   "cell_type": "code",
   "execution_count": 102,
   "metadata": {},
   "outputs": [
    {
     "name": "stdout",
     "output_type": "stream",
     "text": [
      "6\n",
      "1\n"
     ]
    }
   ],
   "source": [
    "def count_digits(a):\n",
    "     return len(str(a))\n",
    "\n",
    "print(count_digits(123456))\n",
    "print(count_digits(0))"
   ]
  },
  {
   "cell_type": "markdown",
   "metadata": {},
   "source": [
    "# Problem :- 17\n",
    "\n",
    "## Problem Statement\n",
    "\n",
    " Use functions  to check if a given number is a Perfect Number\n",
    " to check if a given number is a Perfect Number\n",
    " \n",
    "### Constrains\n",
    "\n",
    " Perfect number is a number for which the sum of all it's divisors is equal to the number itself)\n",
    "\n",
    "### Test Case\n",
    "\n",
    "* IsPerfect(3) -> False\n",
    "* IsPerfect (6) -> True\n",
    "\n"
   ]
  },
  {
   "cell_type": "code",
   "execution_count": 112,
   "metadata": {},
   "outputs": [
    {
     "data": {
      "text/plain": [
       "True"
      ]
     },
     "execution_count": 112,
     "metadata": {},
     "output_type": "execute_result"
    }
   ],
   "source": [
    "def isperfect(n):\n",
    "    sum = 0\n",
    "    for i in range (1,n):\n",
    "        if (n % i == 0):\n",
    "            sum = sum+i\n",
    "        return True\n",
    "    else:\n",
    "        return False\n",
    "\n",
    "isperfect(6)\n",
    "    "
   ]
  },
  {
   "cell_type": "code",
   "execution_count": null,
   "metadata": {},
   "outputs": [],
   "source": []
  }
 ],
 "metadata": {
  "kernelspec": {
   "display_name": "Python 3",
   "language": "python",
   "name": "python3"
  },
  "language_info": {
   "codemirror_mode": {
    "name": "ipython",
    "version": 3
   },
   "file_extension": ".py",
   "mimetype": "text/x-python",
   "name": "python",
   "nbconvert_exporter": "python",
   "pygments_lexer": "ipython3",
   "version": "3.7.3"
  }
 },
 "nbformat": 4,
 "nbformat_minor": 2
}
