{
 "cells": [
  {
   "cell_type": "markdown",
   "metadata": {},
   "source": [
    "# Day 9\n",
    "\n",
    "## 12 May 2019\n",
    "\n",
    "## Y.VVS.Sai Charan\n",
    "\n",
    "## Day objectives\n",
    "\n",
    "* To complete the  given Problems"
   ]
  },
  {
   "cell_type": "markdown",
   "metadata": {},
   "source": [
    "# Problem :1\n",
    "\n",
    "## Problem Stetement\n",
    "\n",
    "* Define a function to print the sequence of spiral pattern elements for a given N x N matrix\n",
    "\n",
    "## Costraints\n",
    "--\n",
    "\n",
    "## Test Case\n",
    "      \n",
    "* spiralPattern([[1,2,3], [4,5,6], [7,8,9]]) -> 1 2 3 6 9 8 7 4 5"
   ]
  },
  {
   "cell_type": "code",
   "execution_count": 11,
   "metadata": {},
   "outputs": [
    {
     "name": "stdout",
     "output_type": "stream",
     "text": [
      "1 2 3 4 5 6 7 8 9 10 11 12 13 14 15 16 "
     ]
    }
   ],
   "source": [
    "def spiral(p):\n",
    "    a=0\n",
    "    b=0\n",
    "    c=len(p)\n",
    "    d=len(p[1])\n",
    "    while(a<c and b<d):\n",
    "        for i in range (0+a,d):\n",
    "            print(p[a][i],end=\" \")\n",
    "        a = a+1\n",
    "        for i in range(a,c):\n",
    "            print(p[i][d-1],end =\" \")\n",
    "        d= d-1\n",
    "        if (a<c):\n",
    "               for i in range (d-1,(b-1),-1):\n",
    "                    print(p[c-1][i],end = \" \")\n",
    "        c = c-1\n",
    "        if(b<d):\n",
    "                for i in range(c-1,a-1,-1):\n",
    "                    print(p[i][b],end = \" \")\n",
    "                b = b+1\n",
    "p=[[1,2,3,4], [12,13,14,5], [11,16,15,6],[10,9,8,7]]      \n",
    "    \n",
    "spiral(p)               "
   ]
  },
  {
   "cell_type": "markdown",
   "metadata": {},
   "source": [
    "# Problem :-1\n",
    "\n",
    "## Problem Steatement\n",
    "\n",
    "* You are given n words. Some words may repeat. For each word, output its number of occurrences. The output order should correspond with the input order of appearance of the word. \n",
    "\n",
    "## Constraints\n",
    "\n",
    "* First line of input contains the total number of words n. Next n lines contain words that need to processed.\n",
    "* First line of the output should contain the total number distinct words. Second line of output must contain the frequency of words the same order of their appearance as in the input\n",
    "\n",
    "### Test case\n",
    "\n",
    "* abcd\n",
    "* ijkl\n",
    "* abcd\n",
    "* pqrs\n",
    "* abcd\n",
    "* ijkl"
   ]
  },
  {
   "cell_type": "code",
   "execution_count": 1,
   "metadata": {},
   "outputs": [
    {
     "name": "stdout",
     "output_type": "stream",
     "text": [
      "5\n",
      "2 2 2 2 2 "
     ]
    }
   ],
   "source": [
    "def uniq_ele(le,b):\n",
    "    uni =[]\n",
    "    uni.append(b[0])\n",
    "    index = 0\n",
    "    for i in range(len(b)):\n",
    "        if(whether(b[i],uni)==True):\n",
    "            uni.append(b[i])\n",
    "    print(len(uni))\n",
    "    for i in range(len(uni)):\n",
    "            unic(uni[i],b)\n",
    "def whether(c,uni):\n",
    "    for j in range(len(uni)):\n",
    "        if(uni[j]==c):\n",
    "            return False\n",
    "        return True\n",
    "def unic(c,b):\n",
    "    frq = 0\n",
    "    for i in range(len(b)):\n",
    "        if(b[i] == c):\n",
    "            frq = frq+1   \n",
    "    print(frq, end=\" \")\n",
    "\n",
    "b = ['a','b','c','a','b','c']\n",
    "uniq_ele(len(b),b)\n",
    "            "
   ]
  },
  {
   "cell_type": "code",
   "execution_count": null,
   "metadata": {},
   "outputs": [],
   "source": []
  }
 ],
 "metadata": {
  "kernelspec": {
   "display_name": "Python 3",
   "language": "python",
   "name": "python3"
  },
  "language_info": {
   "codemirror_mode": {
    "name": "ipython",
    "version": 3
   },
   "file_extension": ".py",
   "mimetype": "text/x-python",
   "name": "python",
   "nbconvert_exporter": "python",
   "pygments_lexer": "ipython3",
   "version": "3.7.3"
  }
 },
 "nbformat": 4,
 "nbformat_minor": 2
}
