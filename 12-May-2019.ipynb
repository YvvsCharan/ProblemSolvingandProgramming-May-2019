{
 "cells": [
  {
   "cell_type": "markdown",
   "metadata": {},
   "source": [
    "# Day 9\n",
    "\n",
    "## 12 May 2019\n",
    "\n",
    "## Y.VVS.Sai Charan\n",
    "\n",
    "## Day objectives\n",
    "\n",
    "* To complete the  given Problems"
   ]
  },
  {
   "cell_type": "markdown",
   "metadata": {},
   "source": [
    "# Problem :1\n",
    "\n",
    "## Problem Stetement\n",
    "\n",
    "* Define a function to print the sequence of spiral pattern elements for a given N x N matrix\n",
    "\n",
    "## Costraints\n",
    "--\n",
    "\n",
    "## Test Case\n",
    "      \n",
    "* spiralPattern([[1,2,3], [4,5,6], [7,8,9]]) -> 1 2 3 6 9 8 7 4 5"
   ]
  },
  {
   "cell_type": "code",
   "execution_count": 9,
   "metadata": {},
   "outputs": [
    {
     "name": "stdout",
     "output_type": "stream",
     "text": [
      "1 2 3 6 9 8 7 4 5 "
     ]
    }
   ],
   "source": [
    "def spiral(a):\n",
    "    k=0\n",
    "    l=0\n",
    "    m=len(a)\n",
    "    n=len(a[1])\n",
    "    while(k<m and l<n):\n",
    "        for i in range (0+k,n):\n",
    "            print(a[k][i],end=\" \")\n",
    "        k = k+1\n",
    "        for i in range(k,m):\n",
    "            print(a[i][n-1],end =\" \")\n",
    "        n = n-1\n",
    "        if (k<m):\n",
    "               for i in range (n-1,(l-1),-1):\n",
    "                    print(a[m-1][i],end = \" \")\n",
    "        m = m-1\n",
    "        if(l<n):\n",
    "                for i in range(m-1,k-1,-1):\n",
    "                    print(a[i][l],end = \" \")\n",
    "                l = l+1\n",
    "a=[[1,2,3], [4,5,6], [7,8,9]]      \n",
    "    \n",
    "spiral(a)               "
   ]
  },
  {
   "cell_type": "code",
   "execution_count": null,
   "metadata": {},
   "outputs": [],
   "source": []
  },
  {
   "cell_type": "code",
   "execution_count": null,
   "metadata": {},
   "outputs": [],
   "source": []
  },
  {
   "cell_type": "code",
   "execution_count": null,
   "metadata": {},
   "outputs": [],
   "source": []
  }
 ],
 "metadata": {
  "kernelspec": {
   "display_name": "Python 3",
   "language": "python",
   "name": "python3"
  },
  "language_info": {
   "codemirror_mode": {
    "name": "ipython",
    "version": 3
   },
   "file_extension": ".py",
   "mimetype": "text/x-python",
   "name": "python",
   "nbconvert_exporter": "python",
   "pygments_lexer": "ipython3",
   "version": "3.7.3"
  }
 },
 "nbformat": 4,
 "nbformat_minor": 2
}
