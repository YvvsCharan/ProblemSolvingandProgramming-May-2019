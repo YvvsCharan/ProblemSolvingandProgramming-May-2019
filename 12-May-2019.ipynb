{
 "cells": [
  {
   "cell_type": "markdown",
   "metadata": {},
   "source": [
    "# Day 9\n",
    "\n",
    "## 12 May 2019\n",
    "\n",
    "## Y.VVS.Sai Charan\n",
    "\n",
    "## Day objectives\n",
    "\n",
    "* To complete the  given Problems"
   ]
  },
  {
   "cell_type": "markdown",
   "metadata": {},
   "source": [
    "# Problem :1\n",
    "\n",
    "## Problem Stetement\n",
    "\n",
    "* Define a function to print the sequence of spiral pattern elements for a given N x N matrix\n",
    "\n",
    "## Costraints\n",
    "--\n",
    "\n",
    "## Test Case\n",
    "      \n",
    "* spiralPattern([[1,2,3], [4,5,6], [7,8,9]]) -> 1 2 3 6 9 8 7 4 5"
   ]
  },
  {
   "cell_type": "code",
   "execution_count": 11,
   "metadata": {},
   "outputs": [
    {
     "name": "stdout",
     "output_type": "stream",
     "text": [
      "1 2 3 4 5 6 7 8 9 10 11 12 13 14 15 16 "
     ]
    }
   ],
   "source": [
    "def spiral(p):\n",
    "    a=0\n",
    "    b=0\n",
    "    c=len(p)\n",
    "    d=len(p[1])\n",
    "    while(a<c and b<d):\n",
    "        for i in range (0+a,d):\n",
    "            print(p[a][i],end=\" \")\n",
    "        a = a+1\n",
    "        for i in range(a,c):\n",
    "            print(p[i][d-1],end =\" \")\n",
    "        d= d-1\n",
    "        if (a<c):\n",
    "               for i in range (d-1,(b-1),-1):\n",
    "                    print(p[c-1][i],end = \" \")\n",
    "        c = c-1\n",
    "        if(b<d):\n",
    "                for i in range(c-1,a-1,-1):\n",
    "                    print(p[i][b],end = \" \")\n",
    "                b = b+1\n",
    "p=[[1,2,3,4], [12,13,14,5], [11,16,15,6],[10,9,8,7]]      \n",
    "    \n",
    "spiral(p)               "
   ]
  },
  {
   "cell_type": "code",
   "execution_count": null,
   "metadata": {},
   "outputs": [],
   "source": []
  },
  {
   "cell_type": "code",
   "execution_count": null,
   "metadata": {},
   "outputs": [],
   "source": []
  },
  {
   "cell_type": "code",
   "execution_count": null,
   "metadata": {},
   "outputs": [],
   "source": []
  }
 ],
 "metadata": {
  "kernelspec": {
   "display_name": "Python 3",
   "language": "python",
   "name": "python3"
  },
  "language_info": {
   "codemirror_mode": {
    "name": "ipython",
    "version": 3
   },
   "file_extension": ".py",
   "mimetype": "text/x-python",
   "name": "python",
   "nbconvert_exporter": "python",
   "pygments_lexer": "ipython3",
   "version": "3.7.3"
  }
 },
 "nbformat": 4,
 "nbformat_minor": 2
}
