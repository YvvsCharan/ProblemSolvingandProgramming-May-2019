{
 "cells": [
  {
   "cell_type": "markdown",
   "metadata": {},
   "source": [
    "# Day  8\n",
    "\n",
    "## 11 May 2019\n",
    "\n",
    "## Y.VVS.Sai Charan\n",
    "\n",
    "## Day Objectives\n",
    "\n",
    "* To complete day-10 problems "
   ]
  },
  {
   "cell_type": "markdown",
   "metadata": {},
   "source": [
    "# Problem :-1\n",
    "\n",
    "## Problem Statement\n",
    "\n",
    "* Define a function to convert a decimal number to the corresponding binary number\n",
    "\n",
    "### Constraints\n",
    "--\n",
    "\n",
    "### Test Cases\n",
    "\n",
    "* decimalToBinary(15) -> 1111\n",
    "* decimalToBinary(1) -> 1\n"
   ]
  },
  {
   "cell_type": "code",
   "execution_count": 7,
   "metadata": {},
   "outputs": [
    {
     "name": "stdout",
     "output_type": "stream",
     "text": [
      "[1, 1, 1, 1]\n",
      "[0, 0, 0, 1]\n"
     ]
    }
   ],
   "source": [
    "import math\n",
    "def decimal_to_binary(n):\n",
    "    i = 0\n",
    "    a = [0,0,0,0]\n",
    "    while((n) > 0):\n",
    "        a[3-i] = n%2\n",
    "        n = n // 2\n",
    "        i = i+1\n",
    "    return a\n",
    "\n",
    "print(decimal_to_binary(15))\n",
    "print(decimal_to_binary(1))"
   ]
  },
  {
   "cell_type": "markdown",
   "metadata": {},
   "source": [
    "# Problem :-2\n",
    "\n",
    "## Problem Statement\n",
    "\n",
    "* Define a function to check if a given year is a leap year. Returns a boolean value\n",
    "\n",
    "### Constraints\n",
    "--\n",
    "\n",
    "### Test Case \n",
    "\n",
    "* 2000 -> True\n",
    "* 1900 -> False\n",
    "* 2012 -> True\n",
    "* 2020 -> True\n",
    "* 0200 -> False"
   ]
  },
  {
   "cell_type": "code",
   "execution_count": 13,
   "metadata": {},
   "outputs": [
    {
     "name": "stdout",
     "output_type": "stream",
     "text": [
      "True\n",
      "False\n",
      "True\n",
      "True\n",
      "False\n"
     ]
    }
   ],
   "source": [
    "def leap_year(n):\n",
    "    if (n % 4 == 0 and n % 100 != 0 or n % 400 == 0):\n",
    "        return True\n",
    "    else:\n",
    "        return False\n",
    "    \n",
    "print(leap_year(2000))\n",
    "print(leap_year(1900))\n",
    "print(leap_year(2012))\n",
    "print(leap_year(2020))\n",
    "print(leap_year(200))"
   ]
  },
  {
   "cell_type": "markdown",
   "metadata": {},
   "source": [
    "# Problem :-3\n",
    "\n",
    "## Problem statement\n",
    "\n",
    "* Define a function to convert a binary number to the corresponding decimal number\n",
    "\n",
    "### Constraints\n",
    "--\n",
    "### Test Case\n",
    "\n",
    "* binaryToDecimal(1100) -> 12\n",
    "* binaryToDecimal(1010) -> 10\n",
    "* binaryToDecimal(111000) -> 56"
   ]
  },
  {
   "cell_type": "code",
   "execution_count": 25,
   "metadata": {},
   "outputs": [
    {
     "name": "stdout",
     "output_type": "stream",
     "text": [
      "12\n",
      "10\n",
      "56\n"
     ]
    }
   ],
   "source": [
    "import math\n",
    "def binary_to_decimal(n):\n",
    "    count = 0\n",
    "    a = 0\n",
    "    while(math.floor(n)>0):\n",
    "        r = n%10\n",
    "        a = a+((2**count)*r)\n",
    "        n = n//10\n",
    "        count = count + 1\n",
    "    return a\n",
    "\n",
    "print(binary_to_decimal(1100))\n",
    "print(binary_to_decimal(1010))\n",
    "print(binary_to_decimal(111000))        "
   ]
  },
  {
   "cell_type": "markdown",
   "metadata": {},
   "source": [
    "# Problem:-4\n",
    "\n",
    "## Problem Statement\n",
    "\n",
    "* Design a Python script to determine the difference in date for given two dates in YYYY:MM:DD format(0 <= YYYY <= 9999, 1 <= MM <= 12, 1 <= DD <= 31) following the leap year rules. Return the total number of days existing between the two dates.\n",
    "\n",
    "## Constraints\n",
    "--\n",
    "\n",
    "## Test Case\n",
    "\n",
    "* dateDifference('2019:05:10', '2019:05:01') -> 9\n",
    "* dateDifference('0003:03:03', '0003:06:06') -> 95"
   ]
  },
  {
   "cell_type": "code",
   "execution_count": 57,
   "metadata": {},
   "outputs": [
    {
     "name": "stdout",
     "output_type": "stream",
     "text": [
      "9\n",
      "95\n"
     ]
    }
   ],
   "source": [
    "def date_diff(a,b):\n",
    "    y1 = a[0 : 4]\n",
    "    y2 = b[0 : 4]\n",
    "    m1 = a[5 : 7]\n",
    "    m2 = b[5 : 7]\n",
    "    d1 = a[8 : 10]\n",
    "    d2 = b[8 : 10]\n",
    "    day = 0\n",
    "    day+=(int(y2) -(int(y1)))*360\n",
    "    day+=(abs(int(m2) - int(m1)))*30\n",
    "    day+=(abs(int(d1) - int(d2)))\n",
    "    if(m2!=m1):\n",
    "        for i in range(int(m1), int(m2)+1):\n",
    "            if (int(i) in [1,3,5,7,8,10,12]):\n",
    "                day+=1\n",
    "        for n in range(int(y1), int(y2 )+ 1):\n",
    "            if (n % 4 == 0 and n % 100 != 0 or n % 400 == 0):\n",
    "                day+=1\n",
    "    return day\n",
    "        \n",
    "print(date_diff('2019:05:10', '2019:05:01'))\n",
    "print(date_diff('0003:03:03', '0003:06:06'))\n",
    "            "
   ]
  },
  {
   "cell_type": "markdown",
   "metadata": {},
   "source": [
    "# Problem :-5\n",
    "\n",
    "## Problem Statement\n",
    "\n",
    "* Define a function to find the average of all the outer elements of an N x M matrix.\n",
    "\n",
    "### Constraints\n",
    "--\n",
    "\n",
    "### Test Cases\n",
    "\n",
    "* averageOuterMatrix([[1, 2, 3], [4, 5, 6], [7, 8, 9], [10, 11, 12]] -> 4.5"
   ]
  },
  {
   "cell_type": "code",
   "execution_count": 14,
   "metadata": {},
   "outputs": [
    {
     "data": {
      "text/plain": [
       "91"
      ]
     },
     "execution_count": 14,
     "metadata": {},
     "output_type": "execute_result"
    }
   ],
   "source": [
    "def ave(n):\n",
    "    x = len(n)\n",
    "    y = len(n[1])\n",
    "    sum = 0\n",
    "    for i in range(y):\n",
    "        sum = sum + n[0][i] + n[x-1][i]\n",
    "    for j in range (x):\n",
    "        sum = sum + n[j][0] + n[j][y-1]\n",
    "    return sum\n",
    "    n=[1, 2, 3], [4, 5, 6], [7, 8, 9], [10, 11, 12]\n",
    "ave(n)"
   ]
  },
  {
   "cell_type": "code",
   "execution_count": null,
   "metadata": {},
   "outputs": [],
   "source": []
  }
 ],
 "metadata": {
  "kernelspec": {
   "display_name": "Python 3",
   "language": "python",
   "name": "python3"
  },
  "language_info": {
   "codemirror_mode": {
    "name": "ipython",
    "version": 3
   },
   "file_extension": ".py",
   "mimetype": "text/x-python",
   "name": "python",
   "nbconvert_exporter": "python",
   "pygments_lexer": "ipython3",
   "version": "3.7.3"
  }
 },
 "nbformat": 4,
 "nbformat_minor": 2
}
