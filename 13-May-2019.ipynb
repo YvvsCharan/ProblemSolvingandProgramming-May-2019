{
 "cells": [
  {
   "cell_type": "markdown",
   "metadata": {},
   "source": [
    "# Day 9\n",
    "\n",
    "## 12 May 2019\n",
    "\n",
    "## Y.VVS.Sai Charan\n",
    "\n",
    "## Day objectives\n",
    " \n",
    " * To Complete given problems"
   ]
  },
  {
   "cell_type": "markdown",
   "metadata": {},
   "source": [
    "# Problem :-1\n",
    "\n",
    "## Problem Statement\n",
    "\n",
    "* Define a function that take an array of integers A, and an integer K and returns the longest possible sub-set of A i.e A' such that the sum of no two elements in A' is divisible by K.\n",
    "\n",
    "## Constraints\n",
    "\n",
    "* First line in input contains the length of A and the integer K. Second line of input contains len(A) space-separated integers.\n",
    "* Output must contain the length of A' list\n",
    "\n",
    "## Test Case\n",
    "\n",
    "* Sample Input :    4  3\n",
    "*                 1 7 2 4\n",
    "* Sample Output : 3"
   ]
  },
  {
   "cell_type": "code",
   "execution_count": 8,
   "metadata": {
    "scrolled": true
   },
   "outputs": [
    {
     "name": "stdout",
     "output_type": "stream",
     "text": [
      "4 3\n",
      "[1, 7, 2, 4]\n",
      "3\n"
     ]
    }
   ],
   "source": [
    "def arr_of_func(n,m):\n",
    "    sub = [ ]\n",
    "    sub.append(n[0])\n",
    "    print(len(n),m)\n",
    "    print(n)\n",
    "    for i in range(1,len(n)):\n",
    "        if(checksub(n[i],sub,m)):\n",
    "            sub.append(n[i])\n",
    "    print(len(sub))\n",
    "def checksub(o,sub,m):\n",
    "    for i in range(len(sub)):\n",
    "        if(((o+sub[i])%m)==0):\n",
    "            return False\n",
    "    return True\n",
    "    \n",
    "n = [1,7,2,4]\n",
    "arr_of_func(n,3)"
   ]
  },
  {
   "cell_type": "code",
   "execution_count": null,
   "metadata": {},
   "outputs": [],
   "source": []
  }
 ],
 "metadata": {
  "kernelspec": {
   "display_name": "Python 3",
   "language": "python",
   "name": "python3"
  },
  "language_info": {
   "codemirror_mode": {
    "name": "ipython",
    "version": 3
   },
   "file_extension": ".py",
   "mimetype": "text/x-python",
   "name": "python",
   "nbconvert_exporter": "python",
   "pygments_lexer": "ipython3",
   "version": "3.7.3"
  }
 },
 "nbformat": 4,
 "nbformat_minor": 2
}
