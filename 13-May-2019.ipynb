{
 "cells": [
  {
   "cell_type": "markdown",
   "metadata": {},
   "source": [
    "# Problem :-1\n",
    "\n",
    "## Problem Steatement\n",
    "\n",
    "* You are given n words. Some words may repeat. For each word, output its number of occurrences. The output order should correspond with the input order of appearance of the word. \n",
    "\n",
    "## Constraints\n",
    "\n",
    "* First line of input contains the total number of words n. Next n lines contain words that need to processed.\n",
    "* First line of the output should contain the total number distinct words. Second line of output must contain the frequency of words the same order of their appearance as in the input\n",
    "\n",
    "### Test case\n",
    "\n",
    "* abcd\n",
    "* ijkl\n",
    "* abcd\n",
    "* pqrs\n",
    "* abcd\n",
    "* ijkl"
   ]
  },
  {
   "cell_type": "code",
   "execution_count": 18,
   "metadata": {},
   "outputs": [
    {
     "name": "stdout",
     "output_type": "stream",
     "text": [
      "5\n",
      "2 2 2 2 2 "
     ]
    }
   ],
   "source": [
    "def uniq_ele(le,b):\n",
    "    uni =[]\n",
    "    uni.append(b[0])\n",
    "    index = 0\n",
    "    for i in range(len(b)):\n",
    "        if(whether(b[i],uni)==True):\n",
    "            uni.append(b[i])\n",
    "    print(len(uni))\n",
    "    for i in range(len(uni)):\n",
    "            unic(uni[i],b)\n",
    "def whether(c,uni):\n",
    "    for j in range(len(uni)):\n",
    "        if(uni[j]==c):\n",
    "            return False\n",
    "        return True\n",
    "def unic(c,b):\n",
    "    frq = 0\n",
    "    for i in range(len(b)):\n",
    "        if(b[i] == c):\n",
    "            frq = frq+1   \n",
    "    print(frq, end=\" \")\n",
    "\n",
    "b = ['a','b','c','a','b','c']\n",
    "uniq_ele(len(b),b)\n",
    "            "
   ]
  },
  {
   "cell_type": "code",
   "execution_count": null,
   "metadata": {},
   "outputs": [],
   "source": []
  }
 ],
 "metadata": {
  "kernelspec": {
   "display_name": "Python 3",
   "language": "python",
   "name": "python3"
  },
  "language_info": {
   "codemirror_mode": {
    "name": "ipython",
    "version": 3
   },
   "file_extension": ".py",
   "mimetype": "text/x-python",
   "name": "python",
   "nbconvert_exporter": "python",
   "pygments_lexer": "ipython3",
   "version": "3.7.3"
  }
 },
 "nbformat": 4,
 "nbformat_minor": 2
}
